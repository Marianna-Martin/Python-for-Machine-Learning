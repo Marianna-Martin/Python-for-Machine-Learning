{
 "cells": [
  {
   "cell_type": "markdown",
   "id": "2e5b70db-0e3f-43a3-b974-4c6905b16e41",
   "metadata": {},
   "source": [
    "Hierarchical clustering is a method used in unsupervised machine learning to group similar data points into clusters or groups based on their characteristics. In simple words, it's like organizing items into groups based on how similar they are to each other.\n",
    "\n",
    "Here's a simplified explanation of hierarchical clustering:\n",
    "\n",
    "1. **Start with Each Data Point as its Own Cluster**:\n",
    "   - Initially, each data point is treated as a separate cluster.\n",
    "\n",
    "2. **Merge Similar Clusters**:\n",
    "   - At each step, the two closest clusters are merged into a single cluster.\n",
    "   - The \"closeness\" of clusters is determined by a similarity measure, such as distance between data points.\n",
    "   - This process continues until all data points belong to a single cluster, forming a hierarchical structure of clusters.\n",
    "\n",
    "3. **Visual Representation as a Dendrogram**:\n",
    "   - The result of hierarchical clustering can be visualized as a dendrogram, which is a tree-like structure that shows the order and manner in which clusters were merged.\n",
    "   - The height of each branch in the dendrogram represents the distance or dissimilarity between the clusters being merged.\n",
    "\n",
    "4. **Determine the Number of Clusters**:\n",
    "   - The dendrogram can help in deciding the optimal number of clusters by identifying the level at which to cut the tree.\n",
    "   - Cutting the dendrogram at a certain height results in a particular number of clusters.\n",
    "\n",
    "5. **Use Cases**:\n",
    "   - Hierarchical clustering is used in various fields, including biology (e.g., clustering genes based on expression levels), customer segmentation in marketing, and document clustering in natural language processing.\n",
    "\n",
    "In summary, hierarchical clustering is a method for grouping data points into clusters based on their similarity, with the result represented as a dendrogram. It's an intuitive and visual approach to clustering that helps uncover structure in the data without requiring the number of clusters to be specified in advance."
   ]
  },
  {
   "cell_type": "code",
   "execution_count": null,
   "id": "0871fbb1",
   "metadata": {},
   "outputs": [],
   "source": [
    "#loading libraries\n",
    "import pandas as pd\n",
    "import numpy as np\n",
    "import matplotlib.pyplot as plt\n",
    "%matplotlib inline"
   ]
  },
  {
   "cell_type": "code",
   "execution_count": null,
   "id": "50e4f800",
   "metadata": {},
   "outputs": [],
   "source": [
    "df=pd.DataFrame([10,7,28,20,35],columns=[\"Marks\"])"
   ]
  },
  {
   "cell_type": "code",
   "execution_count": null,
   "id": "88ac8b72",
   "metadata": {},
   "outputs": [],
   "source": [
    "import scipy.cluster.hierarchy as shc\n",
    "plt.figure(figsize=(10, 7))  \n",
    "plt.title(\"Dendrograms\")  \n",
    "dend = shc.dendrogram(shc.linkage(df, method='ward'))\n",
    "plt.axhline(y=3, color='r', linestyle='--')"
   ]
  },
  {
   "cell_type": "code",
   "execution_count": null,
   "id": "955e2643",
   "metadata": {},
   "outputs": [],
   "source": [
    "# running clustering\n",
    "from sklearn.cluster import AgglomerativeClustering\n",
    "cluster = AgglomerativeClustering(n_clusters=2, affinity='euclidean', linkage='ward')  \n",
    "cluster.fit_predict(df)"
   ]
  },
  {
   "cell_type": "code",
   "execution_count": null,
   "id": "14291086",
   "metadata": {},
   "outputs": [],
   "source": []
  }
 ],
 "metadata": {
  "kernelspec": {
   "display_name": "Python 3 (Intel® oneAPI 2023.2)",
   "language": "python",
   "name": "c009-intel_distribution_of_python_3_oneapi-beta05-python"
  },
  "language_info": {
   "codemirror_mode": {
    "name": "ipython",
    "version": 3
   },
   "file_extension": ".py",
   "mimetype": "text/x-python",
   "name": "python",
   "nbconvert_exporter": "python",
   "pygments_lexer": "ipython3",
   "version": "3.9.16"
  }
 },
 "nbformat": 4,
 "nbformat_minor": 5
}
