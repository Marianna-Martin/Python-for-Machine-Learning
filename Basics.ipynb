{
 "cells": [
  {
   "cell_type": "markdown",
   "id": "d01d24de-ca48-4bb9-b7ae-93d81586cfad",
   "metadata": {
    "jp-MarkdownHeadingCollapsed": true,
    "tags": []
   },
   "source": [
    "# Basics Of `Python` Programming\n",
    "In this notebook , we will explain basic `Python` for machine learning."
   ]
  },
  {
   "cell_type": "markdown",
   "id": "e37e6d41-6f89-4ec9-8d53-50cb9bb72502",
   "metadata": {},
   "source": [
    "## Derived Data Types in `Python`"
   ]
  },
  {
   "cell_type": "markdown",
   "id": "d1a6590e-1905-4083-8b6c-1da7db02a291",
   "metadata": {},
   "source": [
    ">**NOTE:** In Python `int`,`float`,`str` etc. are atomic data types and no declaration is required."
   ]
  },
  {
   "cell_type": "code",
   "execution_count": 1,
   "id": "72de8b63-3170-4233-8036-51b30794d82a",
   "metadata": {},
   "outputs": [],
   "source": [
    "my_list =[1,2,3]"
   ]
  },
  {
   "cell_type": "code",
   "execution_count": 2,
   "id": "a264ac5b-af17-443f-9809-b08d529e63ef",
   "metadata": {},
   "outputs": [
    {
     "data": {
      "text/plain": [
       "[1, 2, 3]"
      ]
     },
     "execution_count": 2,
     "metadata": {},
     "output_type": "execute_result"
    }
   ],
   "source": [
    "my_list"
   ]
  },
  {
   "cell_type": "code",
   "execution_count": 6,
   "id": "17de288e-1555-4934-a70b-ceda95722149",
   "metadata": {},
   "outputs": [],
   "source": [
    "my_list= [1,2,'a',9,'tiger','a','b','c']"
   ]
  },
  {
   "cell_type": "code",
   "execution_count": 7,
   "id": "5685fa70-6de2-40c8-bc5f-e02794314156",
   "metadata": {},
   "outputs": [
    {
     "data": {
      "text/plain": [
       "[1, 2, 'a', 9, 'tiger', 'a', 'b', 'c']"
      ]
     },
     "execution_count": 7,
     "metadata": {},
     "output_type": "execute_result"
    }
   ],
   "source": [
    "my_list\n"
   ]
  },
  {
   "cell_type": "code",
   "execution_count": 21,
   "id": "caf72b4e-c16e-4f1f-badc-f8517c3b24f4",
   "metadata": {},
   "outputs": [],
   "source": [
    "L=[[100,400,300],'a','v','r']"
   ]
  },
  {
   "cell_type": "code",
   "execution_count": 22,
   "id": "b85f3329-f207-442f-9c13-0808481b1e38",
   "metadata": {},
   "outputs": [
    {
     "data": {
      "text/plain": [
       "[[100, 400, 300], 'a', 'v', 'r']"
      ]
     },
     "execution_count": 22,
     "metadata": {},
     "output_type": "execute_result"
    }
   ],
   "source": [
    "L"
   ]
  },
  {
   "cell_type": "code",
   "execution_count": 18,
   "id": "31074517-a670-4f2f-a8cb-38034357a6db",
   "metadata": {},
   "outputs": [],
   "source": [
    "nested_list=[[23,78,0],'a','b','v']"
   ]
  },
  {
   "cell_type": "code",
   "execution_count": 19,
   "id": "f0386b62-da37-48ec-984a-a8b6e9f880d8",
   "metadata": {},
   "outputs": [
    {
     "data": {
      "text/plain": [
       "[[23, 78, 0], 'a', 'b', 'v']"
      ]
     },
     "execution_count": 19,
     "metadata": {},
     "output_type": "execute_result"
    }
   ],
   "source": [
    "nested_list\n"
   ]
  },
  {
   "cell_type": "code",
   "execution_count": 20,
   "id": "b14f5467-fc48-4a08-b9ce-6c100af6dc6e",
   "metadata": {},
   "outputs": [
    {
     "data": {
      "text/plain": [
       "78"
      ]
     },
     "execution_count": 20,
     "metadata": {},
     "output_type": "execute_result"
    }
   ],
   "source": [
    "nested_list[0][1]"
   ]
  },
  {
   "cell_type": "markdown",
   "id": "e25d0648-c9f7-4ceb-896a-183163d60aaf",
   "metadata": {},
   "source": [
    "### List is mutable "
   ]
  },
  {
   "cell_type": "code",
   "execution_count": 23,
   "id": "d6d5c7f7-d50b-4e5e-ba81-ab1b367c401e",
   "metadata": {},
   "outputs": [],
   "source": [
    "my_list.append('e')"
   ]
  },
  {
   "cell_type": "code",
   "execution_count": 24,
   "id": "d799e14d-6797-4a6d-8c57-ed4de6ccf647",
   "metadata": {},
   "outputs": [
    {
     "data": {
      "text/plain": [
       "[1, 2, 'a', 9, 'tiger', 'a', 'b', 'c', 'e']"
      ]
     },
     "execution_count": 24,
     "metadata": {},
     "output_type": "execute_result"
    }
   ],
   "source": [
    "my_list"
   ]
  },
  {
   "cell_type": "code",
   "execution_count": 25,
   "id": "3f4f0b67-f1ed-4939-8194-db2c23194c44",
   "metadata": {},
   "outputs": [],
   "source": [
    "t=(1,2,3,'a')"
   ]
  },
  {
   "cell_type": "code",
   "execution_count": 26,
   "id": "37956ff8-e245-4186-ac5c-3ce00dec78c6",
   "metadata": {},
   "outputs": [
    {
     "data": {
      "text/plain": [
       "(1, 2, 3, 'a')"
      ]
     },
     "execution_count": 26,
     "metadata": {},
     "output_type": "execute_result"
    }
   ],
   "source": [
    "t\n"
   ]
  },
  {
   "cell_type": "code",
   "execution_count": 27,
   "id": "91df2612-c84c-486a-9d8d-8492cea2ae1b",
   "metadata": {},
   "outputs": [
    {
     "ename": "TypeError",
     "evalue": "'tuple' object does not support item assignment",
     "output_type": "error",
     "traceback": [
      "\u001b[0;31m---------------------------------------------------------------------------\u001b[0m",
      "\u001b[0;31mTypeError\u001b[0m                                 Traceback (most recent call last)",
      "Cell \u001b[0;32mIn[27], line 1\u001b[0m\n\u001b[0;32m----> 1\u001b[0m \u001b[43mt\u001b[49m\u001b[43m[\u001b[49m\u001b[38;5;241;43m0\u001b[39;49m\u001b[43m]\u001b[49m\u001b[38;5;241m=\u001b[39m\u001b[38;5;124m\"\u001b[39m\u001b[38;5;124mnew\u001b[39m\u001b[38;5;124m\"\u001b[39m\n",
      "\u001b[0;31mTypeError\u001b[0m: 'tuple' object does not support item assignment"
     ]
    }
   ],
   "source": [
    "t[0]=\"new\""
   ]
  },
  {
   "cell_type": "markdown",
   "id": "c1215204-1fb4-4e77-b97e-35a7ed7bfbf4",
   "metadata": {},
   "source": [
    "##### Tuple is immutable"
   ]
  },
  {
   "cell_type": "code",
   "execution_count": 29,
   "id": "6058d58d-00fa-4921-ac55-e037ee30bf13",
   "metadata": {},
   "outputs": [],
   "source": [
    "d={'Name':\"Marianna\",'Age':20,'Branch':\"CSE\"}"
   ]
  },
  {
   "cell_type": "code",
   "execution_count": 30,
   "id": "e9f16832-5370-4154-bfbf-837b638645aa",
   "metadata": {},
   "outputs": [
    {
     "data": {
      "text/plain": [
       "{'Name': 'Marianna', 'Age': 20, 'Branch': 'CSE'}"
      ]
     },
     "execution_count": 30,
     "metadata": {},
     "output_type": "execute_result"
    }
   ],
   "source": [
    "d"
   ]
  },
  {
   "cell_type": "code",
   "execution_count": 31,
   "id": "12fa1b9f-d428-4119-a552-1800fb27bd90",
   "metadata": {},
   "outputs": [
    {
     "ename": "KeyError",
     "evalue": "0",
     "output_type": "error",
     "traceback": [
      "\u001b[0;31m---------------------------------------------------------------------------\u001b[0m",
      "\u001b[0;31mKeyError\u001b[0m                                  Traceback (most recent call last)",
      "Cell \u001b[0;32mIn[31], line 1\u001b[0m\n\u001b[0;32m----> 1\u001b[0m \u001b[43md\u001b[49m\u001b[43m[\u001b[49m\u001b[38;5;241;43m0\u001b[39;49m\u001b[43m]\u001b[49m\n",
      "\u001b[0;31mKeyError\u001b[0m: 0"
     ]
    }
   ],
   "source": [
    "d[0]"
   ]
  },
  {
   "cell_type": "code",
   "execution_count": 32,
   "id": "1ad45e64-b83f-4bf3-b7fe-4ece9540bf6a",
   "metadata": {},
   "outputs": [
    {
     "data": {
      "text/plain": [
       "20"
      ]
     },
     "execution_count": 32,
     "metadata": {},
     "output_type": "execute_result"
    }
   ],
   "source": [
    "d['Age']\n"
   ]
  },
  {
   "cell_type": "code",
   "execution_count": 34,
   "id": "60baae2f-bd6c-4579-b147-960c683b480e",
   "metadata": {},
   "outputs": [],
   "source": [
    "d={'list1':[3,5,6],'list2':[6,8]}"
   ]
  },
  {
   "cell_type": "code",
   "execution_count": 35,
   "id": "86a01cfa-4032-41cb-99e5-cce983d06d64",
   "metadata": {},
   "outputs": [
    {
     "data": {
      "text/plain": [
       "{'list1': [3, 5, 6], 'list2': [6, 8]}"
      ]
     },
     "execution_count": 35,
     "metadata": {},
     "output_type": "execute_result"
    }
   ],
   "source": [
    "d\n"
   ]
  },
  {
   "cell_type": "code",
   "execution_count": 37,
   "id": "ac0c4daf-eae8-4f38-b21d-3022f67ad63b",
   "metadata": {},
   "outputs": [
    {
     "data": {
      "text/plain": [
       "[3, 5, 6]"
      ]
     },
     "execution_count": 37,
     "metadata": {},
     "output_type": "execute_result"
    }
   ],
   "source": [
    "d['list1']"
   ]
  },
  {
   "cell_type": "code",
   "execution_count": 38,
   "id": "fe4d3c3e-ee97-4c95-b4fa-64971a2b7250",
   "metadata": {},
   "outputs": [],
   "source": [
    "s={1,1,2,3,5,7,4,6,2,2,2}"
   ]
  },
  {
   "cell_type": "code",
   "execution_count": 39,
   "id": "628cef96-4ca7-4ea2-80dc-8e2249448da4",
   "metadata": {},
   "outputs": [
    {
     "data": {
      "text/plain": [
       "{1, 2, 3, 4, 5, 6, 7}"
      ]
     },
     "execution_count": 39,
     "metadata": {},
     "output_type": "execute_result"
    }
   ],
   "source": [
    "s\n"
   ]
  },
  {
   "cell_type": "code",
   "execution_count": null,
   "id": "52132d1d-8d56-40fc-bfb4-075fa126c649",
   "metadata": {},
   "outputs": [],
   "source": []
  },
  {
   "cell_type": "code",
   "execution_count": null,
   "id": "c53ad607-2ce6-404a-8679-7ab14e985978",
   "metadata": {},
   "outputs": [],
   "source": []
  },
  {
   "cell_type": "code",
   "execution_count": 40,
   "id": "0b894a7b-f5c1-4776-b23c-7dfe0f2bdcdc",
   "metadata": {},
   "outputs": [],
   "source": [
    "def times2(var):\n",
    "    return var*2"
   ]
  },
  {
   "cell_type": "code",
   "execution_count": 42,
   "id": "f6a63296-f058-4b3d-a167-dd205d26042f",
   "metadata": {},
   "outputs": [
    {
     "data": {
      "text/plain": [
       "<function __main__.times2(var)>"
      ]
     },
     "execution_count": 42,
     "metadata": {},
     "output_type": "execute_result"
    }
   ],
   "source": [
    "times2"
   ]
  },
  {
   "cell_type": "code",
   "execution_count": 43,
   "id": "a868a972-d7aa-48f9-bfcf-e43e45239f46",
   "metadata": {},
   "outputs": [
    {
     "data": {
      "text/plain": [
       "18"
      ]
     },
     "execution_count": 43,
     "metadata": {},
     "output_type": "execute_result"
    }
   ],
   "source": [
    "times2(9)"
   ]
  },
  {
   "cell_type": "code",
   "execution_count": 44,
   "id": "79c98da5-c651-4fe4-8318-cb65d00abfb1",
   "metadata": {},
   "outputs": [
    {
     "data": {
      "text/plain": [
       "'aa'"
      ]
     },
     "execution_count": 44,
     "metadata": {},
     "output_type": "execute_result"
    }
   ],
   "source": [
    "times2('a')"
   ]
  },
  {
   "cell_type": "code",
   "execution_count": 45,
   "id": "818ebd4d-0af9-4079-ad32-5a75e120eab6",
   "metadata": {},
   "outputs": [
    {
     "data": {
      "text/plain": [
       "'BlaBla'"
      ]
     },
     "execution_count": 45,
     "metadata": {},
     "output_type": "execute_result"
    }
   ],
   "source": [
    "times2('Bla')"
   ]
  },
  {
   "cell_type": "markdown",
   "id": "57bc9810-4b2a-41d0-89ce-5b86abf0b6ef",
   "metadata": {},
   "source": [
    "### Lambda Function"
   ]
  },
  {
   "cell_type": "raw",
   "id": "5edbdc89-30ec-43cd-b7ee-b69fbe1f4cc9",
   "metadata": {},
   "source": [
    "Lambda function reduces memory allocation and time. There is no memory allocation as whe  you areusing def. Can be used for small codes . Reduces time and memory wastage for small,small repetive tasks."
   ]
  },
  {
   "cell_type": "code",
   "execution_count": 46,
   "id": "a85aacbb-8319-4d5c-b4ef-20df9c7bc435",
   "metadata": {},
   "outputs": [],
   "source": [
    "times2=lambda var:var*2"
   ]
  },
  {
   "cell_type": "code",
   "execution_count": 47,
   "id": "25069ffc-690e-4805-823e-8d894b5ba808",
   "metadata": {},
   "outputs": [
    {
     "data": {
      "text/plain": [
       "'aa'"
      ]
     },
     "execution_count": 47,
     "metadata": {},
     "output_type": "execute_result"
    }
   ],
   "source": [
    "times2('a')"
   ]
  },
  {
   "cell_type": "markdown",
   "id": "653beb80-ef46-4a5d-a8ca-3cf647b790a1",
   "metadata": {
    "tags": []
   },
   "source": [
    "# List -Comprehension"
   ]
  },
  {
   "cell_type": "code",
   "execution_count": 52,
   "id": "fbb3a648-154f-4b33-af4c-eaa03f77f26f",
   "metadata": {},
   "outputs": [],
   "source": [
    "x=[1,2,3,4]"
   ]
  },
  {
   "cell_type": "code",
   "execution_count": 53,
   "id": "25070549-459b-4ff4-9428-63212b502bbf",
   "metadata": {},
   "outputs": [
    {
     "data": {
      "text/plain": [
       "[1, 4, 9, 16]"
      ]
     },
     "execution_count": 53,
     "metadata": {},
     "output_type": "execute_result"
    }
   ],
   "source": [
    "[item**2 for item in x ]"
   ]
  },
  {
   "cell_type": "markdown",
   "id": "1bbb9662-662f-4826-adc1-665a7b2e97cd",
   "metadata": {},
   "source": [
    "## Printing"
   ]
  },
  {
   "cell_type": "code",
   "execution_count": 54,
   "id": "3ca6ae0c-281a-41fa-b781-1714c7e8c539",
   "metadata": {},
   "outputs": [
    {
     "name": "stdout",
     "output_type": "stream",
     "text": [
      "My name is :Anu and my roll no is 30\n"
     ]
    }
   ],
   "source": [
    "print(\"My name is :{} and my roll no is {}\".format('Anu',30))"
   ]
  },
  {
   "cell_type": "code",
   "execution_count": 56,
   "id": "8350c795-4a27-48d4-b7b6-0696e5a05668",
   "metadata": {},
   "outputs": [
    {
     "name": "stdout",
     "output_type": "stream",
     "text": [
      "my name is tiger\n"
     ]
    }
   ],
   "source": [
    "print(\"my name is {}\".format(my_list[4]) )"
   ]
  },
  {
   "cell_type": "markdown",
   "id": "1522e353-d502-4072-944f-f38790f31f37",
   "metadata": {},
   "source": [
    "#### Keyword Arguments "
   ]
  },
  {
   "cell_type": "code",
   "execution_count": 57,
   "id": "c8e6118f-5dcc-4251-a77e-432438feb021",
   "metadata": {},
   "outputs": [
    {
     "name": "stdout",
     "output_type": "stream",
     "text": [
      "My name is Emma and my roll no is 30\n"
     ]
    }
   ],
   "source": [
    "print(\"My name is {a} and my roll no is {b}\".format(b=30,a=\"Emma\"))"
   ]
  },
  {
   "cell_type": "code",
   "execution_count": 59,
   "id": "68ebc21f-9796-4802-8656-374840ea4e15",
   "metadata": {},
   "outputs": [
    {
     "ename": "SyntaxError",
     "evalue": "positional argument follows keyword argument (3966458717.py, line 1)",
     "output_type": "error",
     "traceback": [
      "\u001b[0;36m  Cell \u001b[0;32mIn[59], line 1\u001b[0;36m\u001b[0m\n\u001b[0;31m    print(\"My name is {a} and my roll no is {}\".format(a=\"Emma\",90))\u001b[0m\n\u001b[0m                                                                  ^\u001b[0m\n\u001b[0;31mSyntaxError\u001b[0m\u001b[0;31m:\u001b[0m positional argument follows keyword argument\n"
     ]
    }
   ],
   "source": []
  },
  {
   "cell_type": "code",
   "execution_count": null,
   "id": "2dc53974-75fd-4a2a-a43f-e8e4b6656bec",
   "metadata": {},
   "outputs": [],
   "source": []
  }
 ],
 "metadata": {
  "kernelspec": {
   "display_name": "Python 3 (Intel® oneAPI 2023.2)",
   "language": "python",
   "name": "c009-intel_distribution_of_python_3_oneapi-beta05-python"
  },
  "language_info": {
   "codemirror_mode": {
    "name": "ipython",
    "version": 3
   },
   "file_extension": ".py",
   "mimetype": "text/x-python",
   "name": "python",
   "nbconvert_exporter": "python",
   "pygments_lexer": "ipython3",
   "version": "3.9.16"
  }
 },
 "nbformat": 4,
 "nbformat_minor": 5
}
